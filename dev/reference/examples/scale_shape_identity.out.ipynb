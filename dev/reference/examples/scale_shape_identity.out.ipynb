{
  "cells": [
    {
      "cell_type": "markdown",
      "metadata": {},
      "source": [
        "# Scatter Plot Shapes"
      ],
      "id": "87363371-0d69-48da-8d5b-c3bf56970b53"
    },
    {
      "cell_type": "code",
      "execution_count": 1,
      "metadata": {
        "quarto-private-1": {
          "key": "execution",
          "value": {
            "iopub.execute_input": "2025-04-01T11:00:38.014282Z",
            "iopub.status.busy": "2025-04-01T11:00:38.013984Z",
            "iopub.status.idle": "2025-04-01T11:00:38.253486Z",
            "shell.execute_reply": "2025-04-01T11:00:38.253150Z"
          }
        }
      },
      "outputs": [],
      "source": [
        "from plotnine import (\n",
        "    aes,\n",
        "    annotate,\n",
        "    coord_equal,\n",
        "    element_rect,\n",
        "    element_text,\n",
        "    facet_wrap,\n",
        "    geom_point,\n",
        "    geom_segment,\n",
        "    geom_text,\n",
        "    geom_tile,\n",
        "    ggplot,\n",
        "    lims,\n",
        "    scale_shape_identity,\n",
        "    theme,\n",
        "    theme_void,\n",
        ")\n",
        "\n",
        "import polars as pl\n",
        "import numpy as np"
      ],
      "id": "dd59b457-1bb2-4151-94e9-2ef6637e56fc"
    },
    {
      "cell_type": "markdown",
      "metadata": {},
      "source": [
        "List the shapes and prepare dataframe with what is required to display\n",
        "them."
      ],
      "id": "799fc472-8d1c-4804-809e-dc3400447960"
    },
    {
      "cell_type": "code",
      "execution_count": 2,
      "metadata": {
        "quarto-private-1": {
          "key": "execution",
          "value": {
            "iopub.execute_input": "2025-04-01T11:00:38.254813Z",
            "iopub.status.busy": "2025-04-01T11:00:38.254728Z",
            "iopub.status.idle": "2025-04-01T11:00:38.258643Z",
            "shell.execute_reply": "2025-04-01T11:00:38.258451Z"
          }
        }
      },
      "outputs": [
        {
          "output_type": "display_data",
          "metadata": {},
          "data": {
            "text/html": [
              "</div>"
            ]
          }
        }
      ],
      "source": [
        "filled_shapes = (\n",
        "    \"o\",  # circle\n",
        "    \"^\",  # triangle up\n",
        "    \"s\",  # square\n",
        "    \"D\",  # Diamond\n",
        "    \"v\",  # triangle down\n",
        "    \"*\",  # star\n",
        "    \"p\",  # pentagon\n",
        "    \"8\",  # octagon\n",
        "    \"<\",  # triangle left\n",
        "    \"h\",  # hexagon1\n",
        "    \">\",  # triangle right\n",
        "    \"H\",  # hexagon1\n",
        "    \"d\",  # thin diamond\n",
        ")\n",
        "\n",
        "unfilled_shapes = (\n",
        "    \"+\",  # plus\n",
        "    \"x\",  # x\n",
        "    \".\",  # point\n",
        "    \"1\",  # tri_down\n",
        "    \"2\",  # tri_up\n",
        "    \"3\",  # tri_left\n",
        "    \"4\",  # tri_right\n",
        "    \",\",  # pixel\n",
        "    \"_\",  # hline\n",
        "    \"|\",  # vline\n",
        "    0,  # tickleft\n",
        "    1,  # tickright\n",
        "    2,  # tickup\n",
        "    3,  # tickdown\n",
        "    4,  # caretleft\n",
        "    5,  # caretright\n",
        "    6,  # caretup\n",
        "    7,  # caretdown\n",
        ")\n",
        "\n",
        "n1 = len(filled_shapes)\n",
        "n2 = len(unfilled_shapes)\n",
        "ncols = 10\n",
        "shapes = filled_shapes + unfilled_shapes\n",
        "\n",
        "df = pl.DataFrame({\n",
        "    \"x\": np.hstack([np.arange(n1) % ncols, np.arange(n2) % ncols]),\n",
        "    \"y\": 4 - 1.5 * np.hstack([np.arange(n1) // ncols, np.arange(n2) // ncols]),\n",
        "    \"shape\": pl.Series(shapes, dtype=object),\n",
        "    \"shape_kind\": np.repeat([\"Filled Shapes\", \"Unfilled Shapes\"], (n1, n2))\n",
        "})\n",
        "\n",
        "df"
      ],
      "id": "39aa61c2-f46a-4f62-9686-d1eb322ba948"
    },
    {
      "cell_type": "code",
      "execution_count": 3,
      "metadata": {
        "quarto-private-1": {
          "key": "execution",
          "value": {
            "iopub.execute_input": "2025-04-01T11:00:38.259678Z",
            "iopub.status.busy": "2025-04-01T11:00:38.259611Z",
            "iopub.status.idle": "2025-04-01T11:00:38.555402Z",
            "shell.execute_reply": "2025-04-01T11:00:38.555171Z"
          }
        }
      },
      "outputs": [
        {
          "output_type": "display_data",
          "metadata": {},
          "data": {
            "text/plain": [
              "<plotnine.ggplot.ggplot at 0x10acd1220>"
            ]
          }
        }
      ],
      "source": [
        "# Gallery, points\n",
        "\n",
        "def double_quote_strings(series):\n",
        "    return [\n",
        "        '\"{}\"'.format(s) if isinstance(s, str) else \"{}\".format(s)\n",
        "        for s in series\n",
        "    ]\n",
        "\n",
        "(\n",
        "    ggplot(df, aes(\"x\", \"y\"))\n",
        "    \n",
        "    # Background\n",
        "    + geom_tile(aes(width=0.9, height=0.9), fill=\"#F8F8F8\")\n",
        "    \n",
        "    # Cross-grid to help see the centering of the shapes\n",
        "    + geom_segment(aes(x=\"x-0.45\", xend=\"x+0.45\", yend=\"y\"), color=\"Crimson\", alpha=0.05)\n",
        "    + geom_segment(aes(xend=\"x\", y=\"y-0.45\", yend=\"y+0.45\"), color=\"Crimson\", alpha=0.05)\n",
        "    \n",
        "    # The shape\n",
        "    + geom_point(aes(shape=\"shape\"), fill=\"#E5C8D6\", size=8)\n",
        "\n",
        "    # Specification value for the shape\n",
        "    + geom_text(\n",
        "        aes(y=\"y+.5\", label=\"double_quote_strings(shape)\"),\n",
        "        color=\"darkblue\",\n",
        "        va=\"bottom\",\n",
        "    )\n",
        "\n",
        "    # Separate the shapes by their kind\n",
        "    + facet_wrap(\"shape_kind\", ncol=1)\n",
        "\n",
        "    # Make things pretty\n",
        "    + lims(y=(2, 5))\n",
        "    + scale_shape_identity()\n",
        "    + coord_equal()\n",
        "    + theme_void()\n",
        "    + theme(\n",
        "        plot_background=element_rect(fill=\"white\"),\n",
        "        strip_text=element_text(size=12)\n",
        "    )\n",
        ")"
      ],
      "id": "498ce92d-af61-4087-b662-b4aa903c170e"
    }
  ],
  "nbformat": 4,
  "nbformat_minor": 5,
  "metadata": {
    "kernelspec": {
      "name": "python3",
      "display_name": "Python 3 (ipykernel)",
      "language": "python"
    },
    "language_info": {
      "name": "python",
      "codemirror_mode": {
        "name": "ipython",
        "version": "3"
      },
      "file_extension": ".py",
      "mimetype": "text/x-python",
      "nbconvert_exporter": "python",
      "pygments_lexer": "ipython3",
      "version": "3.13.2"
    }
  }
}