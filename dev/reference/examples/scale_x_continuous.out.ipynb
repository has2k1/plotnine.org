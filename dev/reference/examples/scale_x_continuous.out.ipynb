{
  "cells": [
    {
      "cell_type": "markdown",
      "metadata": {},
      "source": [
        "# Guitar Neck \\###"
      ],
      "id": "f2220ad0-f0e5-45a2-a786-d7868e4d59e3"
    },
    {
      "cell_type": "code",
      "execution_count": 1,
      "metadata": {
        "quarto-private-1": {
          "key": "execution",
          "value": {
            "iopub.execute_input": "2025-06-20T13:07:43.228961Z",
            "iopub.status.busy": "2025-06-20T13:07:43.228635Z",
            "iopub.status.idle": "2025-06-20T13:07:43.460032Z",
            "shell.execute_reply": "2025-06-20T13:07:43.459718Z"
          }
        }
      },
      "outputs": [],
      "source": [
        "import numpy as np\n",
        "import pandas as pd\n",
        "from plotnine import (\n",
        "    ggplot,\n",
        "    aes,\n",
        "    geom_point,\n",
        "    geom_path,\n",
        "    scale_x_continuous,\n",
        "    scale_y_continuous,\n",
        "    guides,\n",
        "    theme,\n",
        "    element_line,\n",
        "    element_rect,\n",
        ")\n",
        "from mizani.transforms import trans"
      ],
      "id": "cell-1"
    },
    {
      "cell_type": "markdown",
      "metadata": {},
      "source": [
        "*Using a transformed x-axis to visualise guitar chords*\n",
        "\n",
        "The x-axis is transformed to resemble the narrowing width of frets on a\n",
        "25.5 inch Strat. To do that we create custom transformation.\n",
        "\n",
        "The key parts of *any* transform object are the `transform` and\n",
        "`inverse` functions."
      ],
      "id": "eb9ab32e-e9b4-4763-8f89-15ff458fdf1e"
    },
    {
      "cell_type": "code",
      "execution_count": 2,
      "metadata": {
        "quarto-private-1": {
          "key": "execution",
          "value": {
            "iopub.execute_input": "2025-06-20T13:07:43.461427Z",
            "iopub.status.busy": "2025-06-20T13:07:43.461348Z",
            "iopub.status.idle": "2025-06-20T13:07:43.463695Z",
            "shell.execute_reply": "2025-06-20T13:07:43.463508Z"
          }
        }
      },
      "outputs": [],
      "source": [
        "class frets_trans(trans):\n",
        "    \"\"\"\n",
        "    Frets Transformation\n",
        "    \"\"\"\n",
        "\n",
        "    number_of_frets = 23  # Including fret 0\n",
        "    domain = (0, number_of_frets - 1)\n",
        "\n",
        "    @staticmethod\n",
        "    def transform(x):\n",
        "        x = np.asarray(x)\n",
        "        return 25.5 - (25.5 / (2 ** (x / 12)))\n",
        "\n",
        "    @staticmethod\n",
        "    def inverse(x):\n",
        "        x = np.asarray(x)\n",
        "        return 12 * np.log2(25.5 / (25.5 - x))\n",
        "\n",
        "    @classmethod\n",
        "    def breaks_(cls, limits):\n",
        "        # Fixed major breaks\n",
        "        return cls.domain\n",
        "\n",
        "    @classmethod\n",
        "    def minor_breaks(cls, major, limits):\n",
        "        # The major breaks as passed to this method are in transformed space.\n",
        "        # The minor breaks are calculated in data space to reveal the\n",
        "        # non-linearity of the scale.\n",
        "        _major = cls.inverse(major)\n",
        "        minor = cls.transform(np.linspace(*_major, cls.number_of_frets))\n",
        "        return minor"
      ],
      "id": "cell-4"
    },
    {
      "cell_type": "markdown",
      "metadata": {},
      "source": [
        "The above transform is different from most in that, breaks and minor\n",
        "breaks do not change. This is common of very specialized scales. It can\n",
        "also be a key requirement when creating graphics for demontration\n",
        "purposes.\n",
        "\n",
        "Some chord Data"
      ],
      "id": "1bf7faf5-9a02-4be1-92ee-f364dc725cc4"
    },
    {
      "cell_type": "code",
      "execution_count": 3,
      "metadata": {
        "quarto-private-1": {
          "key": "execution",
          "value": {
            "iopub.execute_input": "2025-06-20T13:07:43.464803Z",
            "iopub.status.busy": "2025-06-20T13:07:43.464746Z",
            "iopub.status.idle": "2025-06-20T13:07:43.467132Z",
            "shell.execute_reply": "2025-06-20T13:07:43.466858Z"
          }
        }
      },
      "outputs": [],
      "source": [
        "# Notes: the 0 fret is an open strum, all other frets are played half-way between fret bars.\n",
        "# The strings are 1:low E, 2: A, 3: D, 4: G, 5: B, 6: E\n",
        "c_chord = pd.DataFrame({\"Fret\": [0, 2.5, 1.5, 0, 0.5, 0], \"String\": [1, 2, 3, 4, 5, 6]})\n",
        "\n",
        "# Sequence based on the number of notes in the chord\n",
        "c_chord[\"Sequence\"] = list(range(1, 1 + len(c_chord[\"Fret\"])))\n",
        "\n",
        "# Standard markings for a Stratocaster\n",
        "markings = pd.DataFrame(\n",
        "    {\n",
        "        \"Fret\": [2.5, 4.5, 6.5, 8.5, 11.5, 11.5, 14.5, 16.5, 18.5, 20.5],\n",
        "        \"String\": [3.5, 3.5, 3.5, 3.5, 2, 5, 3.5, 3.5, 3.5, 3.5],\n",
        "    }\n",
        ")"
      ],
      "id": "cell-7"
    },
    {
      "cell_type": "markdown",
      "metadata": {},
      "source": [
        "Visualizing the chord"
      ],
      "id": "1902ecd2-6bde-4fc6-8068-4c82ba45b35c"
    },
    {
      "cell_type": "code",
      "execution_count": 4,
      "metadata": {
        "quarto-private-1": {
          "key": "execution",
          "value": {
            "iopub.execute_input": "2025-06-20T13:07:43.468152Z",
            "iopub.status.busy": "2025-06-20T13:07:43.468084Z",
            "iopub.status.idle": "2025-06-20T13:07:43.715532Z",
            "shell.execute_reply": "2025-06-20T13:07:43.715333Z"
          }
        },
        "scrolled": true
      },
      "outputs": [
        {
          "output_type": "display_data",
          "metadata": {},
          "data": {
            "text/plain": [
              "<plotnine.ggplot.ggplot at 0x120e718c0>"
            ]
          }
        }
      ],
      "source": [
        "# Gallery, elaborate\n",
        "\n",
        "# Look and feel of the graphic\n",
        "neck_color = \"#FFDDCC\"\n",
        "fret_color = \"#998888\"\n",
        "string_color = \"#AA9944\"\n",
        "\n",
        "neck_theme = theme(\n",
        "    figure_size=(10, 2),\n",
        "    panel_background=element_rect(fill=neck_color),\n",
        "    panel_grid_major_y=element_line(color=string_color, size=2.2),\n",
        "    panel_grid_major_x=element_line(color=fret_color, size=2.2),\n",
        "    panel_grid_minor_x=element_line(color=fret_color, size=1),\n",
        ")\n",
        "\n",
        "(\n",
        "    ggplot(c_chord, aes(\"Fret\", \"String\"))\n",
        "    + geom_path(aes(color=\"Sequence\"), size=3)\n",
        "    + geom_point(aes(color=\"Sequence\"), fill=\"#FFFFFF\", size=3)\n",
        "    + geom_point(data=markings, fill=\"#000000\", size=4)\n",
        "    + scale_x_continuous(trans=frets_trans)\n",
        "    + scale_y_continuous(breaks=range(0, 7), minor_breaks=[])\n",
        "    + guides(color=False)\n",
        "    + neck_theme\n",
        ")"
      ],
      "id": "cell-9"
    },
    {
      "cell_type": "markdown",
      "metadata": {},
      "source": [
        "**Credit**: This example was motivated by [Jonathan\n",
        "Vitale](https://github.com/jonvitale) who wanted to create graphics for\n",
        "a guitar scale trainer."
      ],
      "id": "6beeb9eb-b26f-4fe8-8df9-08fde0aab867"
    }
  ],
  "nbformat": 4,
  "nbformat_minor": 5,
  "metadata": {
    "kernelspec": {
      "name": "python3",
      "display_name": "Python 3 (ipykernel)",
      "language": "python"
    },
    "language_info": {
      "name": "python",
      "codemirror_mode": {
        "name": "ipython",
        "version": "3"
      },
      "file_extension": ".py",
      "mimetype": "text/x-python",
      "nbconvert_exporter": "python",
      "pygments_lexer": "ipython3",
      "version": "3.13.2"
    },
    "toc": {
      "colors": {
        "hover_highlight": "#DAA520",
        "running_highlight": "#FF0000",
        "selected_highlight": "#FFD700"
      },
      "moveMenuLeft": true,
      "nav_menu": {
        "height": "12px",
        "width": "252px"
      },
      "navigate_menu": true,
      "number_sections": true,
      "sideBar": true,
      "threshold": "4",
      "toc_cell": false,
      "toc_section_display": "block",
      "toc_window_display": false,
      "widenNotebook": false
    }
  }
}